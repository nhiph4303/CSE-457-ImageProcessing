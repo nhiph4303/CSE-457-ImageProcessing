{
 "cells": [
  {
   "cell_type": "markdown",
   "metadata": {},
   "source": [
    "# Assignment 1: Numpy in Jupyter with Visual Code"
   ]
  },
  {
   "cell_type": "code",
   "execution_count": 1,
   "metadata": {},
   "outputs": [],
   "source": [
    "import numpy as np"
   ]
  },
  {
   "cell_type": "code",
   "execution_count": 60,
   "metadata": {},
   "outputs": [],
   "source": [
    "# 1.2. Create a 2D array of size 3x3 with all zeros\n",
    "def create_zero_array():\n",
    "    return np.zeros((3, 3))"
   ]
  },
  {
   "cell_type": "code",
   "execution_count": 63,
   "metadata": {},
   "outputs": [
    {
     "name": "stdout",
     "output_type": "stream",
     "text": [
      "[[0. 0. 0.]\n",
      " [0. 0. 0.]\n",
      " [0. 0. 0.]]\n"
     ]
    }
   ],
   "source": [
    "print(create_zero_array())"
   ]
  },
  {
   "cell_type": "code",
   "execution_count": 5,
   "metadata": {},
   "outputs": [],
   "source": [
    "# 1.3. Create a 2D array of size 3x3 with random intergers between 0 and 10\n",
    "import numpy.random as random\n",
    "def create_random_array():\n",
    "    return random.randint(0, 10, (3, 3))"
   ]
  },
  {
   "cell_type": "code",
   "execution_count": 6,
   "metadata": {},
   "outputs": [
    {
     "name": "stdout",
     "output_type": "stream",
     "text": [
      "[[0 2 8]\n",
      " [7 1 3]\n",
      " [1 2 8]]\n"
     ]
    }
   ],
   "source": [
    "print(create_random_array())"
   ]
  },
  {
   "cell_type": "code",
   "execution_count": 7,
   "metadata": {},
   "outputs": [],
   "source": [
    "# 1.4. Create an identity matrix of size 4x4\n",
    "def create_identity_matrix():\n",
    "    return np.eye(4)"
   ]
  },
  {
   "cell_type": "code",
   "execution_count": 9,
   "metadata": {},
   "outputs": [
    {
     "name": "stdout",
     "output_type": "stream",
     "text": [
      "[[1. 0. 0. 0.]\n",
      " [0. 1. 0. 0.]\n",
      " [0. 0. 1. 0.]\n",
      " [0. 0. 0. 1.]]\n"
     ]
    }
   ],
   "source": [
    "print(create_identity_matrix())"
   ]
  },
  {
   "cell_type": "code",
   "execution_count": 10,
   "metadata": {},
   "outputs": [
    {
     "name": "stdout",
     "output_type": "stream",
     "text": [
      "Array A:\n",
      "[[1 2 3]\n",
      " [4 5 6]]\n",
      "Array B:\n",
      "[[ 7  8]\n",
      " [ 9 10]\n",
      " [11 12]]\n",
      "Result of A @ B:\n",
      "[[ 58  64]\n",
      " [139 154]]\n"
     ]
    }
   ],
   "source": [
    "# 1.5. Multiply a 2x3 matrix with a 3x2 matrix\n",
    "def multiply_matrices(A: np.ndarray, B: np.ndarray):\n",
    "    return np.dot(A, B)   \n",
    "\n",
    "# Example matrices\n",
    "matrix_A = np.array([[1, 2, 3], [4, 5, 6]])\n",
    "matrix_B = np.array([[7, 8], [9, 10], [11, 12]])\n",
    "\n",
    "print(\"Array A:\")\n",
    "print(matrix_A)\n",
    "print(\"Array B:\")\n",
    "print(matrix_B)\n",
    "result = multiply_matrices(matrix_A, matrix_B)\n",
    "print(\"Result of A @ B:\")\n",
    "print(result)"
   ]
  },
  {
   "cell_type": "markdown",
   "metadata": {},
   "source": [
    "# Assignment 2: 2D Arrays"
   ]
  },
  {
   "cell_type": "code",
   "execution_count": 77,
   "metadata": {},
   "outputs": [
    {
     "name": "stdout",
     "output_type": "stream",
     "text": [
      "Array from list of lists:\n",
      "[[1 2 3]\n",
      " [4 5 6]\n",
      " [7 8 9]]\n",
      "<class 'numpy.ndarray'>\n"
     ]
    }
   ],
   "source": [
    "# 2.1. Create a 2D array from a list of lists\n",
    "def list_to_array(list: list):\n",
    "    return np.array(list)\n",
    "\n",
    "# Example list of lists\n",
    "list_of_lists = [[1, 2, 3], [4, 5, 6], [7, 8, 9]]\n",
    "array_from_list = list_to_array(list_of_lists)\n",
    "print(\"Array from list of lists:\")\n",
    "print(array_from_list)\n",
    "print(type(array_from_list))"
   ]
  },
  {
   "cell_type": "code",
   "execution_count": 12,
   "metadata": {},
   "outputs": [
    {
     "name": "stdout",
     "output_type": "stream",
     "text": [
      "Shape of the array:\n",
      "(2, 3)\n"
     ]
    }
   ],
   "source": [
    "# 2.2. Return shape of a 2D array\n",
    "def array_shape(arr: np.ndarray):\n",
    "    return arr.shape\n",
    "\n",
    "# Example array\n",
    "np_array = np.array([[1, 2, 3], [4, 5, 6]])\n",
    "print(\"Shape of the array:\")\n",
    "print(array_shape(np_array))"
   ]
  },
  {
   "cell_type": "code",
   "execution_count": 65,
   "metadata": {},
   "outputs": [
    {
     "name": "stdout",
     "output_type": "stream",
     "text": [
      "First row of the array:\n",
      "[1 2 3]\n"
     ]
    }
   ],
   "source": [
    "# 2.3. Access the first row of a 2D array\n",
    "def first_row(arr: np.ndarray):\n",
    "    return arr[0]\n",
    "\n",
    "# Example array\n",
    "np_array = np.array([[1, 2, 3], \n",
    "                     [4, 5, 6]])\n",
    "print(\"First row of the array:\")\n",
    "print(first_row(np_array))"
   ]
  },
  {
   "cell_type": "code",
   "execution_count": 67,
   "metadata": {},
   "outputs": [
    {
     "name": "stdout",
     "output_type": "stream",
     "text": [
      "Last column of the array:\n",
      "[3 6]\n"
     ]
    }
   ],
   "source": [
    "# 2.4. Access the last column of a 2D array\n",
    "def last_column(arr: np.ndarray):\n",
    "    return arr[:, -1]\n",
    "\n",
    "np_array = np.array([[1, 2, 3], \n",
    "                     [4, 5, 6]])\n",
    "print(\"Last column of the array:\")\n",
    "print(last_column(np_array))"
   ]
  },
  {
   "cell_type": "code",
   "execution_count": 17,
   "metadata": {},
   "outputs": [
    {
     "name": "stdout",
     "output_type": "stream",
     "text": [
      "Array A:\n",
      "[[1 2 3]\n",
      " [4 5 6]]\n",
      "Array B:\n",
      "[[ 7  8  9]\n",
      " [10 11 12]]\n",
      "Result of A + B:\n",
      "[[ 8 10 12]\n",
      " [14 16 18]]\n"
     ]
    }
   ],
   "source": [
    "# 2.5. Add two 2D arrays element-wise\n",
    "def add_arrays(arr1: np.ndarray, arr2: np.ndarray):\n",
    "    return arr1 + arr2\n",
    "\n",
    "# Example arrays\n",
    "A = np.array([[1, 2, 3], [4, 5, 6]])\n",
    "B = np.array([[7, 8, 9], [10, 11, 12]])\n",
    "print(\"Array A:\")\n",
    "print(A)\n",
    "print(\"Array B:\")\n",
    "print(B)\n",
    "result = add_arrays(A, B)\n",
    "print(\"Result of A + B:\")\n",
    "print(result)"
   ]
  },
  {
   "cell_type": "markdown",
   "metadata": {},
   "source": [
    "# Assignment 3"
   ]
  },
  {
   "cell_type": "code",
   "execution_count": 20,
   "metadata": {},
   "outputs": [
    {
     "name": "stdout",
     "output_type": "stream",
     "text": [
      "False\n",
      "True\n"
     ]
    }
   ],
   "source": [
    "# 3.1. Return True if any element > 10\n",
    "def check_greater_than_ten(arr: np.ndarray):\n",
    "    return np.any(arr > 10) # return true if any element is greater than 10 or False otherwise\n",
    "\n",
    "\"\"\"\n",
    "Use conditional statements\n",
    "def check_greater_than_ten(arr: np.ndarray):\n",
    "    if np.any(arr > 10):\n",
    "        return True\n",
    "    else:   \n",
    "        return False\n",
    "\"\"\"\n",
    "\n",
    "# Example array\n",
    "np_array_A = np.array([[1, 2, 3], [4, 5, 6]])\n",
    "print(check_greater_than_ten(np_array))\n",
    "np_array_B = np.array([[11, 2, 3], [4, 5, 6]]) # Example with an element greater than 10\n",
    "print(check_greater_than_ten(np_array_B))"
   ]
  },
  {
   "cell_type": "code",
   "execution_count": 69,
   "metadata": {},
   "outputs": [
    {
     "name": "stdout",
     "output_type": "stream",
     "text": [
      "Original array:\n",
      "[[ 1 -2  3]\n",
      " [-4  5 -6]]\n",
      "Array after replacing negatives with zero:\n",
      "[[1 0 3]\n",
      " [0 5 0]]\n"
     ]
    }
   ],
   "source": [
    "# 3.2. Replace elements < 0 with 0\n",
    "def replace_negatives(arr: np.ndarray):\n",
    "    arr[arr < 0] = 0\n",
    "    return arr\n",
    "\n",
    "# Example array with negative values\n",
    "np_array = np.array([[1, -2, 3], \n",
    "                     [-4, 5, -6]])\n",
    "print(\"Original array:\")\n",
    "print(np_array)\n",
    "print(\"Array after replacing negatives with zero:\")\n",
    "print(replace_negatives(np_array))"
   ]
  },
  {
   "cell_type": "code",
   "execution_count": 22,
   "metadata": {},
   "outputs": [
    {
     "name": "stdout",
     "output_type": "stream",
     "text": [
      "Number of elements greater than five:\n",
      "4\n"
     ]
    }
   ],
   "source": [
    "# 3.3. Count elements > 5\n",
    "def count_greater_than_five(arr: np.ndarray):\n",
    "    return np.sum(arr > 5)\n",
    "\n",
    "# Example array\n",
    "np_array = np.array([[4, 5, 6], \n",
    "                     [7, 8, 9]])\n",
    "print(\"Number of elements greater than five:\")\n",
    "print(count_greater_than_five(np_array))"
   ]
  },
  {
   "cell_type": "code",
   "execution_count": 23,
   "metadata": {},
   "outputs": [
    {
     "name": "stdout",
     "output_type": "stream",
     "text": [
      "Original array:\n",
      "[[1 2 3]\n",
      " [4 5 6]]\n",
      "Array with even numbers marked with 1 and odd numbers with 0:\n",
      "[[0 1 0]\n",
      " [1 0 1]]\n"
     ]
    }
   ],
   "source": [
    "# 3.4. Mark even numbers with 1, others with 0\n",
    "def mark_even(arr: np.ndarray):\n",
    "    #np.where(condition, value_if_true, value_if_false)\n",
    "    return np.where(arr % 2 == 0, 1, 0)\n",
    "\n",
    "# Example array\n",
    "np_array = np.array([[1, 2, 3], \n",
    "                     [4, 5, 6]])\n",
    "print(\"Original array:\")\n",
    "print(np_array)\n",
    "print(\"Array with even numbers marked with 1 and odd numbers with 0:\")\n",
    "print(mark_even(np_array))"
   ]
  },
  {
   "cell_type": "code",
   "execution_count": 25,
   "metadata": {},
   "outputs": [
    {
     "name": "stdout",
     "output_type": "stream",
     "text": [
      "Sum of elements greater than five:\n",
      "21\n"
     ]
    }
   ],
   "source": [
    "# 3.5. Conditional sum of elements > 5\n",
    "def sum_if_greater_than_five(arr: np.ndarray):\n",
    "    return arr[arr > 5].sum()\n",
    "\n",
    "# Example array\n",
    "np_array = np.array([[3, 4, 5], \n",
    "                     [6, 7, 8]])\n",
    "print(\"Sum of elements greater than five:\")\n",
    "print(sum_if_greater_than_five(np_array))"
   ]
  },
  {
   "cell_type": "markdown",
   "metadata": {},
   "source": [
    "# Assigment 4: Loop Example in 2D Array"
   ]
  },
  {
   "cell_type": "code",
   "execution_count": null,
   "metadata": {},
   "outputs": [
    {
     "name": "stdout",
     "output_type": "stream",
     "text": [
      "Sum of each row in the array:\n",
      "[ 6 15]\n"
     ]
    }
   ],
   "source": [
    "# 4.1. Sum each row manually using loops\n",
    "def row_sums(arr: np.ndarray):\n",
    "    return np.array([sum(row) for row in arr]) # shorter in python\n",
    "\n",
    "\"\"\"\n",
    "# manually using loops\n",
    "def row_sums(arr: np.ndarray):\n",
    "    sums = [] # return array of sums\n",
    "    for row in arr:\n",
    "        sums.append(sum(row)) # sum of each row\n",
    "    return np.array(sums)\n",
    "\"\"\"\n",
    "\n",
    "# Example array\n",
    "np_array = np.array([[1, 2, 3], \n",
    "                     [4, 5, 6]])\n",
    "print(\"Sum of each row in the array:\")\n",
    "print(row_sums(np_array))"
   ]
  },
  {
   "cell_type": "code",
   "execution_count": 84,
   "metadata": {},
   "outputs": [
    {
     "name": "stdout",
     "output_type": "stream",
     "text": [
      "Maximum value in each row of the array:\n",
      "[3 6]\n"
     ]
    }
   ],
   "source": [
    "# 4.2. Find max in each row of 2D array using loops\n",
    "def row_max(arr: np.ndarray):\n",
    "    return np.array([max(row) for row in arr]) # shorter in python\n",
    "\n",
    "\"\"\"\n",
    "# manually using loops\n",
    "def row_max(arr: np.ndarray):\n",
    "    max_values = [] # return array of max values\n",
    "    for row in arr:\n",
    "        max_values.append(max(row)) # max of each row\n",
    "    return np.array(max_values)\n",
    "\"\"\"\n",
    "# Example array\n",
    "np_array = np.array([[1, 2, 3], \n",
    "                     [4, 5, 6]])\n",
    "print(\"Maximum value in each row of the array:\")\n",
    "print(row_max(np_array))"
   ]
  },
  {
   "cell_type": "code",
   "execution_count": 83,
   "metadata": {},
   "outputs": [
    {
     "name": "stdout",
     "output_type": "stream",
     "text": [
      "Array after multiplying each element by two:\n",
      "[[ 2  4  6]\n",
      " [ 8 10 12]]\n"
     ]
    }
   ],
   "source": [
    "# 4.3. Multiply each element by 2 using loops\n",
    "def multiply_by_two(arr: np.ndarray) -> np.ndarray:\n",
    "    return np.array([[element * 2 for element in row] for row in arr]) # shorter in python\n",
    "\n",
    "\"\"\"\n",
    "# manually using loops\n",
    "def multiply_by_two(arr: np.ndarray):\n",
    "    result = [] # return array of multiplied values\n",
    "    for row in arr:\n",
    "        new_row = [] # new row to store multiplied values\n",
    "        for element in row:\n",
    "            new_row.append(element * 2) # multiply each element by 2\n",
    "        result.append(new_row) # add new row to result\n",
    "    return np.array(result)\n",
    "\"\"\"\n",
    "# Example array\n",
    "np_array = np.array([[1, 2, 3], [4, 5, 6]])\n",
    "print(\"Array after multiplying each element by two:\")\n",
    "print(multiply_by_two(np_array))"
   ]
  },
  {
   "cell_type": "markdown",
   "metadata": {},
   "source": [
    "# Assignment 5: Data Manipulation"
   ]
  },
  {
   "cell_type": "markdown",
   "metadata": {},
   "source": [
    "## 5.1: Shape and Reshaping"
   ]
  },
  {
   "cell_type": "code",
   "execution_count": 85,
   "metadata": {},
   "outputs": [
    {
     "name": "stdout",
     "output_type": "stream",
     "text": [
      "Original array:\n",
      "[[ 1  2  3  4]\n",
      " [ 5  6  7  8]\n",
      " [ 9 10 11 12]]\n",
      "Reshaped array:\n",
      "[[ 1  2  3  4  5  6]\n",
      " [ 7  8  9 10 11 12]]\n"
     ]
    }
   ],
   "source": [
    "# 5.1.1. Reshape a 3x4 array into 2x6\n",
    "def reshape_array(arr: np.ndarray):\n",
    "    return arr.reshape(2, 6)\n",
    "\n",
    "# Example array\n",
    "np_array_3_4 = np.array([[1, 2, 3, 4],\n",
    "                         [5, 6, 7, 8],\n",
    "                         [9, 10, 11, 12]])\n",
    "print(\"Original array:\")\n",
    "print(np_array_3_4)\n",
    "print(\"Reshaped array:\")\n",
    "print(reshape_array(np_array_3_4))"
   ]
  },
  {
   "cell_type": "code",
   "execution_count": 86,
   "metadata": {},
   "outputs": [
    {
     "name": "stdout",
     "output_type": "stream",
     "text": [
      "Original array:\n",
      "[[1 2 3]\n",
      " [4 5 6]]\n",
      "Flattened array:\n",
      "[1 2 3 4 5 6]\n"
     ]
    }
   ],
   "source": [
    "# 5.1.2. Flatten the array into 1D\n",
    "def flatten(arr: np.ndarray):\n",
    "    return arr.flatten()\n",
    "\n",
    "# Example array\n",
    "np_array = np.array([[1, 2, 3], [4, 5, 6]])\n",
    "print(\"Original array:\")\n",
    "print(np_array)\n",
    "print(\"Flattened array:\")\n",
    "print(flatten(np_array))"
   ]
  },
  {
   "cell_type": "markdown",
   "metadata": {},
   "source": [
    "## 5.2: Array Iterating 2D Array"
   ]
  },
  {
   "cell_type": "code",
   "execution_count": 95,
   "metadata": {},
   "outputs": [
    {
     "name": "stdout",
     "output_type": "stream",
     "text": [
      "1 2 3 4 5 6 "
     ]
    }
   ],
   "source": [
    "# 5.2.1. Print all elements using np.nditer\n",
    "def iterate_elements(arr: np.ndarray):\n",
    "    for element in np.nditer(arr):\n",
    "        print(element, end=' ')\n",
    "\n",
    "# Example array\n",
    "np_array = np.array([[1, 2, 3], [4, 5, 6]])\n",
    "iterate_elements(np_array)"
   ]
  },
  {
   "cell_type": "code",
   "execution_count": 105,
   "metadata": {},
   "outputs": [
    {
     "name": "stdout",
     "output_type": "stream",
     "text": [
      "Original array:\n",
      "[[3 4 5]\n",
      " [6 7 8]]\n",
      "List of elements greater than five:\n",
      "[6, 7, 8]\n"
     ]
    }
   ],
   "source": [
    "# 5.2.2. Return a list of elements > 5 using iteration\n",
    "def elements_greater_than_five(arr: np.ndarray):\n",
    "    return [element.item() for element in np.nditer(arr) if element > 5]\n",
    "\n",
    "# Example array\n",
    "np_array = np.array([[3, 4, 5], \n",
    "                     [6, 7, 8]])\n",
    "print(\"Original array:\")\n",
    "print(np_array)\n",
    "print(\"List of elements greater than five:\")\n",
    "print(elements_greater_than_five(np_array))"
   ]
  },
  {
   "cell_type": "code",
   "execution_count": 107,
   "metadata": {},
   "outputs": [
    {
     "name": "stdout",
     "output_type": "stream",
     "text": [
      "Total sum of all elements in the array:\n",
      "21\n"
     ]
    }
   ],
   "source": [
    "# 5.2.3. Return sum using iteration\n",
    "def sum_using_iteration(arr: np.ndarray):\n",
    "    return sum(element.item() for element in np.nditer(arr))\n",
    "\n",
    "# Example array\n",
    "np_array = np.array([[1, 2, 3], \n",
    "                     [4, 5, 6]])\n",
    "print(\"Total sum of all elements in the array:\")\n",
    "print(sum_using_iteration(np_array))"
   ]
  },
  {
   "cell_type": "markdown",
   "metadata": {},
   "source": [
    "## 5.3: Splitting 2D Arrays"
   ]
  },
  {
   "cell_type": "code",
   "execution_count": 168,
   "metadata": {},
   "outputs": [
    {
     "name": "stdout",
     "output_type": "stream",
     "text": [
      "Original array:\n",
      "[[1 2 3]\n",
      " [4 5 6]]\n",
      "Shape of the array:\n",
      "(2, 3)\n",
      "Split array horizontally:\n",
      "Split 1:\n",
      "[[1]\n",
      " [3]\n",
      " [5]]\n",
      "Split 2:\n",
      "[[2]\n",
      " [4]\n",
      " [6]]\n"
     ]
    }
   ],
   "source": [
    "# 5.3.1. Split horizontally into two arrays\n",
    "def split_horizontal(arr: np.ndarray):\n",
    "    if arr.size % 2 != 0:\n",
    "        raise ValueError(\"Array cannot be split horizontally into two equal parts.\")\n",
    "    elif arr.shape[1] % 2 != 0:\n",
    "        arr = arr.reshape(arr.shape[1], arr.shape[0])\n",
    "    result = np.hsplit(arr, 2)\n",
    "    return result\n",
    "          \n",
    "# Example array  \n",
    "np_array = np.array([[1, 2, 3], \n",
    "                     [4, 5, 6]])\n",
    "print(\"Original array:\")\n",
    "print(np_array)\n",
    "print(\"Shape of the array:\")\n",
    "print(np_array.shape)\n",
    "print(\"Split array horizontally:\")\n",
    "splits = split_horizontal(np_array)\n",
    "for i, split in enumerate(splits):\n",
    "    print(f\"Split {i + 1}:\")\n",
    "    print(split)"
   ]
  },
  {
   "cell_type": "code",
   "execution_count": 188,
   "metadata": {},
   "outputs": [
    {
     "name": "stdout",
     "output_type": "stream",
     "text": [
      "Original array:\n",
      "[[ 1  2  3  4]\n",
      " [ 5  6  7  8]\n",
      " [ 9 10 11 12]]\n",
      "Shape of the array:\n",
      "(3, 4)\n",
      "Split 1:\n",
      "[[1 2 3]\n",
      " [4 5 6]]\n",
      "Split 2:\n",
      "[[ 7  8  9]\n",
      " [10 11 12]]\n"
     ]
    }
   ],
   "source": [
    "# 5.3.2. Split vertically into two arrays\n",
    "def split_vertical(arr: np.ndarray):\n",
    "    if arr.size % 2 != 0:\n",
    "        raise ValueError(\"Array cannot be split vertically into two equal parts.\")\n",
    "    elif arr.shape[0] % 2 != 0:\n",
    "        arr = arr.reshape(arr.shape[1], arr.shape[0])\n",
    "    result = np.vsplit(arr, 2)\n",
    "    return result\n",
    "\n",
    "# Example array\n",
    "np_array = np.array([[1, 2, 3, 4], \n",
    "                     [5, 6, 7, 8],\n",
    "                     [9, 10, 11, 12]])\n",
    "print(\"Original array:\")\n",
    "print(np_array)\n",
    "print(\"Shape of the array:\")\n",
    "print(np_array.shape)\n",
    "splits = split_vertical(np_array)\n",
    "for i, split in enumerate(splits):\n",
    "    print(f\"Split {i + 1}:\")\n",
    "    print(split)"
   ]
  },
  {
   "cell_type": "code",
   "execution_count": 213,
   "metadata": {},
   "outputs": [
    {
     "name": "stdout",
     "output_type": "stream",
     "text": [
      "Original array:\n",
      "[[ 1  2  3  4]\n",
      " [ 5  6  7  8]\n",
      " [ 9 10 11 12]\n",
      " [13 14 15 16]]\n",
      "Shape of the array:\n",
      "(4, 4)\n",
      "Split 1:\n",
      "[[1 2]\n",
      " [5 6]]\n",
      "Split 2:\n",
      "[[3 4]\n",
      " [7 8]]\n",
      "Split 3:\n",
      "[[ 9 10]\n",
      " [13 14]]\n",
      "Split 4:\n",
      "[[11 12]\n",
      " [15 16]]\n"
     ]
    }
   ],
   "source": [
    "# 5.3.3. Split into four quadrants\n",
    "def split_quadrants(arr: np.ndarray):\n",
    "    return [last_split for split in split_vertical(arr) for last_split in split_horizontal(split)]\n",
    "\n",
    "# Example array\n",
    "np_array = np.array([[1, 2, 3, 4], \n",
    "                     [5, 6, 7, 8],\n",
    "                     [9, 10, 11, 12],\n",
    "                     [13, 14, 15, 16]])\n",
    "print(\"Original array:\")\n",
    "print(np_array)\n",
    "print(\"Shape of the array:\")\n",
    "print(np_array.shape)\n",
    "\n",
    "splits = split_quadrants(np_array)\n",
    "for i, split in enumerate(splits):\n",
    "    print(f\"Split {i + 1}:\")\n",
    "    print(split)"
   ]
  },
  {
   "cell_type": "markdown",
   "metadata": {},
   "source": [
    "## 5.4: Array Slicing"
   ]
  },
  {
   "cell_type": "code",
   "execution_count": 226,
   "metadata": {},
   "outputs": [
    {
     "name": "stdout",
     "output_type": "stream",
     "text": [
      "Original array:\n",
      "[[1 2]\n",
      " [3 4]\n",
      " [5 6]]\n",
      "Middle row of the array:\n",
      "[3 4]\n"
     ]
    }
   ],
   "source": [
    "# 5.4.1. Get middle row of the array\n",
    "def middle_row(arr: np.ndarray):\n",
    "    return arr[arr.shape[0] // 2]\n",
    "\n",
    "# Example array\n",
    "np_array = np.array([[1, 2],\n",
    "                     [3, 4],\n",
    "                     [5, 6]])\n",
    "print(\"Original array:\")\n",
    "print(np_array)\n",
    "print(\"Middle row of the array:\")\n",
    "print(middle_row(np_array))"
   ]
  },
  {
   "cell_type": "code",
   "execution_count": 228,
   "metadata": {},
   "outputs": [
    {
     "name": "stdout",
     "output_type": "stream",
     "text": [
      "Original array:\n",
      "[[1 2 3]\n",
      " [4 5 6]]\n",
      "Corner elements of the array:\n",
      "[1, 3, 4, 6]\n"
     ]
    }
   ],
   "source": [
    "# 5.4.2. Get all corner elements (assume square)\n",
    "def corner_elements(arr: np.ndarray):\n",
    "    return [arr[0, 0], arr[0, -1], arr[-1, 0], arr[-1, -1]]\n",
    "\n",
    "# Example array\n",
    "np_array = np.array([[1, 2, 3], [4, 5, 6]])\n",
    "print(\"Original array:\")\n",
    "print(np_array)\n",
    "print(\"Corner elements of the array:\")\n",
    "print(corner_elements(np_array))"
   ]
  },
  {
   "cell_type": "code",
   "execution_count": 229,
   "metadata": {},
   "outputs": [
    {
     "name": "stdout",
     "output_type": "stream",
     "text": [
      "Original array:\n",
      "[[ 1  2  3  4]\n",
      " [ 5  6  7  8]\n",
      " [ 9 10 11 12]\n",
      " [13 14 15 16]]\n",
      "Sub-array from index [1:3, 1:3]:\n",
      "[[ 6  7]\n",
      " [10 11]]\n"
     ]
    }
   ],
   "source": [
    "# 5.4.3. Return sub-array from index [start_row:end_row, start_col:end_col]\n",
    "def sub_array(arr: np.ndarray, start_row: int, end_row: int, start_col: int, end_col: int):\n",
    "    return arr[start_row:end_row, start_col:end_col]\n",
    "\n",
    "np_array = np.array([[1, 2, 3, 4], \n",
    "                     [5, 6, 7, 8],\n",
    "                     [9, 10, 11, 12],\n",
    "                     [13, 14, 15, 16]])\n",
    "print(\"Original array:\")\n",
    "print(np_array)\n",
    "print(\"Sub-array from index [1:3, 1:3]:\")\n",
    "print(sub_array(np_array, 1, 3, 1, 3))"
   ]
  }
 ],
 "metadata": {
  "kernelspec": {
   "display_name": "Python 3",
   "language": "python",
   "name": "python3"
  },
  "language_info": {
   "codemirror_mode": {
    "name": "ipython",
    "version": 3
   },
   "file_extension": ".py",
   "mimetype": "text/x-python",
   "name": "python",
   "nbconvert_exporter": "python",
   "pygments_lexer": "ipython3",
   "version": "3.11.5"
  }
 },
 "nbformat": 4,
 "nbformat_minor": 2
}
