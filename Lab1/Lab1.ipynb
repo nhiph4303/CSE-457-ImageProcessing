{
 "cells": [
  {
   "cell_type": "markdown",
   "id": "3464c34d",
   "metadata": {},
   "source": [
    "# Lab 1: Fundamentals of Python Programming with NumPy\n",
    "\n",
    "Welcome to the first lab session for the Image Processing course. This lab will focus on getting comfortable with NumPy and basic Python programming practices using Jupyter Notebook in Visual Studio Code.\n",
    "\n",
    "## 1. Introduction and Setup:\n",
    "### 1.1 Software Requirements\n",
    "To complete this lab, you will need the following software installed on your system:\n",
    "- **Python:** Version 3.9 or newer is recommended.\n",
    "- **Visual Studio Code (VS Code):** A powerful and free code editor.\n",
    "- **Jupyter Extension for VS Code:** This extension allows you to run Jupyter Notebooks directly within VS Code. Install it from the VS Code Extensions Marketplace.\n",
    "- **NumPy Library:** The fundamental package for numerical computation in Python.\n",
    "\n",
    "### 1.2 Setting Up Your Environment\n",
    "It is highly recommended to use [a virtual environment](https://docs.python.org/3/library/venv.html) for your Python projects. This helps manage dependencies and avoids conflicts between different projects.\n",
    "1. Open VS Code's Integrated Terminal\n",
    "2. Navigate to your desired lab directory if needed.\n",
    "3. Create a virtual environment:\n",
    "```bash\n",
    "        python -m venv .lab1\n",
    "```\n",
    "4. Activate the virtual environment:\n",
    "```bash\n",
    "        .lab1\\Scripts\\activate\n",
    "```\n",
    "5. Install the necessary Python packages\n",
    "```bash\n",
    "        pip install ipykernel numpy\n",
    "```\n",
    "\n",
    "## 2. Instructions:\n",
    "- Follow the instructions in each section.\n",
    "- Implement your solutions in the provided function blocks.\n",
    "- Do not rename the functions, this will be used later for automated testing.\n",
    "\n",
    "## 3. Submission Guidelines:\n",
    "- **File Format:** Ensure your submission is a Jupyter Notebook file.\n",
    "- **File Naming Convention:** Rename your lab file in the following format:\n",
    "    - Lab1_StudentName_StudentLastName_StudentID.ipynb\n",
    "- **Submission:** Please submit the zip file of Jupyter Notebook file to Moodle after you have completed.\n",
    "    - Lab1_StudentName_StudentLastName_StudentID.zip\n",
    "\n",
    "---\n",
    "\n",
    "## 1. NumPy in Jupyter with Visual Code\n",
    "\n",
    "### Assignment 1.1: Import NumPy\n",
    "\n",
    "**Explanation**: NumPy is a powerful library for numerical operations. Use `import numpy as np` to access its features."
   ]
  },
  {
   "cell_type": "code",
   "execution_count": null,
   "id": "efd4dfc0",
   "metadata": {},
   "outputs": [],
   "source": [
    "# TODO: Import numpy as np\n"
   ]
  },
  {
   "cell_type": "markdown",
   "id": "65e12551",
   "metadata": {},
   "source": [
    "### Assignment 1.2: Create a 2D array of size 3x3 with all zeros\n",
    "\n",
    "**Explanation**: You can use `np.zeros((3,3))` to create a 3x3 array filled with zeros."
   ]
  },
  {
   "cell_type": "code",
   "execution_count": null,
   "id": "7555b799",
   "metadata": {},
   "outputs": [],
   "source": [
    "# TODO: Create a 2D array of shape (3,3) filled with zeros\n",
    "def create_zero_array() -> np.ndarray:\n",
    "    pass"
   ]
  },
  {
   "cell_type": "markdown",
   "id": "b4ac6b54",
   "metadata": {},
   "source": [
    "**Correctness Verification:**"
   ]
  },
  {
   "cell_type": "code",
   "execution_count": null,
   "id": "685747f7",
   "metadata": {},
   "outputs": [],
   "source": [
    "print(create_zero_array())"
   ]
  },
  {
   "cell_type": "markdown",
   "id": "631129f8",
   "metadata": {},
   "source": [
    "### Assignment 1.3: Create a 2D array of size 3x3 with random integers from 1 to 10\n",
    "\n",
    "**Explanation**: Use `np.random.randint(low, high, size=(rows, cols))` for random integers."
   ]
  },
  {
   "cell_type": "code",
   "execution_count": null,
   "id": "e9289e70",
   "metadata": {},
   "outputs": [],
   "source": [
    "# TODO: Create a 2D array of shape (3,3) with random values\n",
    "def create_random_array() -> np.ndarray:\n",
    "    pass"
   ]
  },
  {
   "cell_type": "markdown",
   "id": "75a8ff92",
   "metadata": {},
   "source": [
    "**Correctness Verification:**"
   ]
  },
  {
   "cell_type": "code",
   "execution_count": null,
   "id": "f8870766",
   "metadata": {},
   "outputs": [],
   "source": [
    "print(create_random_array())"
   ]
  },
  {
   "cell_type": "markdown",
   "id": "2b5b81dc",
   "metadata": {},
   "source": [
    "### Assignment 1.4: Create an identity matrix of size 4x4\n",
    "\n",
    "**Explanation**: `np.eye(n)` creates an n x n identity matrix.\n",
    "\n",
    "Identity matrices are square matrices with ones on the main diagonal (from top-left to bottom-right) and zeros elsewhere. For example, a 4×4 identity matrix looks like:\n",
    "\n",
    "$$\n",
    "I_4 = \\begin{bmatrix}\n",
    "1 & 0 & 0 & 0 \\\\\n",
    "0 & 1 & 0 & 0 \\\\\n",
    "0 & 0 & 1 & 0 \\\\\n",
    "0 & 0 & 0 & 1 \\\\\n",
    "\\end{bmatrix}\n",
    "$$"
   ]
  },
  {
   "cell_type": "code",
   "execution_count": null,
   "id": "622dc2a9",
   "metadata": {},
   "outputs": [],
   "source": [
    "# TODO: Create a 4x4 identity matrix\n",
    "def create_identity_matrix() -> np.ndarray:\n",
    "    pass"
   ]
  },
  {
   "cell_type": "markdown",
   "id": "49b4e4f7",
   "metadata": {},
   "source": [
    "**Correctness Verification:**"
   ]
  },
  {
   "cell_type": "code",
   "execution_count": null,
   "id": "59883a0a",
   "metadata": {},
   "outputs": [],
   "source": [
    "print(create_identity_matrix())"
   ]
  },
  {
   "cell_type": "markdown",
   "id": "66af0cde",
   "metadata": {},
   "source": [
    "### Assignment 1.5: Multiply a 2x3 matrix with a 3x2 matrix\n",
    "\n",
    "**Explanation**: Use `np.dot(arr1, arr2)` or the `@` operator to perform matrix multiplication.\n",
    "\n",
    "\n",
    "Matrix multiplication (also called the dot product) is not element-wise. Instead, each entry in the resulting matrix is computed as the dot product of a row from the first matrix and a column from the second.\n",
    "\n",
    "#### Example:\n",
    "\n",
    "Let’s multiply a \\( 2 $\\times$ 3 \\) matrix with a \\( 3 $\\times$ 2 \\) matrix:\n",
    "\n",
    "$\n",
    "A = \\begin{bmatrix}\n",
    "1 & 2 & 3 \\\\\n",
    "4 & 5 & 6 \\\\\n",
    "\\end{bmatrix}, \\quad\n",
    "B = \\begin{bmatrix}\n",
    "7 & 8 \\\\\n",
    "9 & 10 \\\\\n",
    "11 & 12 \\\\\n",
    "\\end{bmatrix}\n",
    "$\n",
    "\n",
    "To multiply \\( A $\\cdot$ B \\), the number of columns in \\( A \\) must equal the number of rows in \\( B \\). The resulting matrix will be of shape \\( 2 $\\times$ 2 \\):\n",
    "\n",
    "$\n",
    "AB = \\begin{bmatrix}\n",
    "(1*7 + 2*9 + 3*11) & (1*8 + 2*10 + 3*12) \\\\\n",
    "(4*7 + 5*9 + 6*11) & (4*8 + 5*10 + 6*12) \\\\\n",
    "\\end{bmatrix}\n",
    "= \\begin{bmatrix}\n",
    "58 & 64 \\\\\n",
    "139 & 154 \\\\\n",
    "\\end{bmatrix}\n",
    "$\n",
    "\n",
    "#### Rules of Matrix Multiplication:\n",
    "- If \\( A \\) is of shape \\( m $\\times$ n \\), and \\( B \\) is \\( n $\\times$ p \\), then \\( A $\\cdot$ B \\) is defined and results in a matrix of shape \\( m $\\times$ p \\).\n",
    "- Matrix multiplication is **associative**: \\( (AB)C = A(BC) \\)\n",
    "- It is **not commutative**: \\( AB $\\neq$ BA \\) in general.\n",
    "\n",
    "#### Useful NumPy Functions:\n",
    "- `np.dot(A, B)` – Standard matrix multiplication.\n",
    "- `A @ B` – Equivalent and often preferred for readability.\n",
    "- `np.matmul(A, B)` – Also performs matrix multiplication, especially for multidimensional arrays.\n",
    "- `np.transpose(A)` or `A.T` – Transposes a matrix, useful in aligning shapes for multiplication.\n"
   ]
  },
  {
   "cell_type": "code",
   "execution_count": null,
   "id": "72b700bb",
   "metadata": {},
   "outputs": [],
   "source": [
    "# TODO: Multiply two matrices and return the result\n",
    "def multiply_matrices(A: np.ndarray, B: np.ndarray) -> np.ndarray:\n",
    "    pass"
   ]
  },
  {
   "cell_type": "markdown",
   "id": "a9d75112",
   "metadata": {},
   "source": [
    "**Correctness Verification:**"
   ]
  },
  {
   "cell_type": "code",
   "execution_count": null,
   "id": "d1eef1a9",
   "metadata": {},
   "outputs": [],
   "source": [
    "matrix_A = np.array([[1, 2, 3], [4, 5, 6]])\n",
    "matrix_B = np.array([[7, 8], [9, 10], [11, 12]])\n",
    "\n",
    "print(\"Array A:\")\n",
    "print(matrix_A)\n",
    "print(\"Array B:\")\n",
    "print(matrix_B)\n",
    "result = multiply_matrices(matrix_A, matrix_B)\n",
    "print(\"Result of A @ B:\")\n",
    "print(result)"
   ]
  },
  {
   "cell_type": "markdown",
   "id": "adef569e",
   "metadata": {},
   "source": [
    "---\n",
    "\n",
    "## 2. 2D Arrays\n",
    "\n",
    "### Assignment 2.1: Create a 2D array from a list of lists\n",
    "\n",
    "**Explanation**: Use `np.array(list_of_lists)` to convert a list of lists into a NumPy array."
   ]
  },
  {
   "cell_type": "code",
   "execution_count": null,
   "id": "14f2c520",
   "metadata": {},
   "outputs": [],
   "source": [
    "# TODO: Convert a list of lists to a NumPy 2D array\n",
    "def list_to_array(lst: list) -> np.ndarray:\n",
    "    pass"
   ]
  },
  {
   "cell_type": "markdown",
   "id": "4de7c6e4",
   "metadata": {},
   "source": [
    "**Correctness Verification:**"
   ]
  },
  {
   "cell_type": "code",
   "execution_count": null,
   "id": "c6c56c6c",
   "metadata": {},
   "outputs": [],
   "source": [
    "list_of_lists = [[1, 2, 3], [4, 5, 6], [7, 8, 9]]\n",
    "array_from_list = list_to_array(list_of_lists)\n",
    "print(\"Array from list of lists:\")\n",
    "print(array_from_list)\n",
    "print(type(array_from_list))"
   ]
  },
  {
   "cell_type": "markdown",
   "id": "f728e4c6",
   "metadata": {},
   "source": [
    "### Assignment 2.2: Return the shape of a 2D array\n",
    "\n",
    "**Explanation**: The shape of an array can be obtained using `.shape`."
   ]
  },
  {
   "cell_type": "code",
   "execution_count": null,
   "id": "3e86edcd",
   "metadata": {},
   "outputs": [],
   "source": [
    "# TODO: Return the shape of the array\n",
    "def array_shape(arr: np.ndarray) -> tuple:\n",
    "    pass"
   ]
  },
  {
   "cell_type": "markdown",
   "id": "505699ae",
   "metadata": {},
   "source": [
    "**Correctness Verification:**"
   ]
  },
  {
   "cell_type": "code",
   "execution_count": null,
   "id": "985121ed",
   "metadata": {},
   "outputs": [],
   "source": [
    "np_array = np.array([[1, 2, 3], [4, 5, 6]])\n",
    "print(\"Shape of the array:\")\n",
    "print(array_shape(np_array))"
   ]
  },
  {
   "cell_type": "markdown",
   "id": "abb83fb7",
   "metadata": {},
   "source": [
    "### Assignment 2.3: Access the first row of a 2D array\n",
    "\n",
    "**Explanation**: Access rows using indexing like `arr[0]`."
   ]
  },
  {
   "cell_type": "code",
   "execution_count": null,
   "id": "61074de7",
   "metadata": {},
   "outputs": [],
   "source": [
    "# TODO: Return the first row\n",
    "def first_row(arr: np.ndarray) -> np.ndarray:\n",
    "    pass"
   ]
  },
  {
   "cell_type": "markdown",
   "id": "021510b6",
   "metadata": {},
   "source": [
    "**Correctness Verification:**"
   ]
  },
  {
   "cell_type": "code",
   "execution_count": null,
   "id": "572e9982",
   "metadata": {},
   "outputs": [],
   "source": [
    "np_array = np.array([[1, 2, 3], \n",
    "                     [4, 5, 6]])\n",
    "print(\"First row of the array:\")\n",
    "print(first_row(np_array))"
   ]
  },
  {
   "cell_type": "markdown",
   "id": "fcc0be24",
   "metadata": {},
   "source": [
    "### Assignment 2.4: Access the last column of a 2D array\n",
    "\n",
    "**Explanation**: Use slicing like `arr[:, -1]` to get the last column."
   ]
  },
  {
   "cell_type": "code",
   "execution_count": null,
   "id": "4e5d0f05",
   "metadata": {},
   "outputs": [],
   "source": [
    "# TODO: Return the last column\n",
    "def last_column(arr: np.ndarray) -> np.ndarray:\n",
    "    pass"
   ]
  },
  {
   "cell_type": "markdown",
   "id": "7714eb9b",
   "metadata": {},
   "source": [
    "**Correctness Verification:**"
   ]
  },
  {
   "cell_type": "code",
   "execution_count": null,
   "id": "5dd866d0",
   "metadata": {},
   "outputs": [],
   "source": [
    "np_array = np.array([[1, 2, 3], \n",
    "                     [4, 5, 6]])\n",
    "print(\"Last column of the array:\")\n",
    "print(last_column(np_array))"
   ]
  },
  {
   "cell_type": "markdown",
   "id": "3ab7e438",
   "metadata": {},
   "source": [
    "### Assignment 2.5: Add two 2D arrays element-wise\n",
    "\n",
    "**Explanation**: You can add two arrays element-wise using the `+` operator."
   ]
  },
  {
   "cell_type": "code",
   "execution_count": null,
   "id": "1c9af10c",
   "metadata": {},
   "outputs": [],
   "source": [
    "# TODO: Add arrays element-wise\n",
    "def add_arrays(arr1: np.ndarray, arr2: np.ndarray) -> np.ndarray:\n",
    "    pass"
   ]
  },
  {
   "cell_type": "markdown",
   "id": "5930bf98",
   "metadata": {},
   "source": [
    "**Correctness Verification:**"
   ]
  },
  {
   "cell_type": "code",
   "execution_count": null,
   "id": "d572baea",
   "metadata": {},
   "outputs": [],
   "source": [
    "A = np.array([[1, 2, 3], [4, 5, 6]])\n",
    "B = np.array([[7, 8, 9], [10, 11, 12]])\n",
    "print(\"Array A:\")\n",
    "print(A)\n",
    "print(\"Array B:\")\n",
    "print(B)\n",
    "result = add_arrays(A, B)\n",
    "print(\"Result of A + B:\")\n",
    "print(result)"
   ]
  },
  {
   "cell_type": "markdown",
   "id": "071890a8",
   "metadata": {},
   "source": [
    "---\n",
    "\n",
    "## 3. If-Else in 2D Arrays\n",
    "\n",
    "### Assignment 3.1: Return True if any element > 10\n",
    "\n",
    "**Explanation**: Use conditionals and `np.any(arr > 10)` to check this."
   ]
  },
  {
   "cell_type": "code",
   "execution_count": null,
   "id": "5f5be93a",
   "metadata": {},
   "outputs": [],
   "source": [
    "# TODO: Check if any elements in the array are greater than ten\n",
    "def check_greater_than_ten(arr: np.ndarray) -> bool:\n",
    "    pass"
   ]
  },
  {
   "cell_type": "markdown",
   "id": "6a370e0d",
   "metadata": {},
   "source": [
    "**Correctness Verification:**"
   ]
  },
  {
   "cell_type": "code",
   "execution_count": null,
   "id": "46d62c20",
   "metadata": {},
   "outputs": [],
   "source": [
    "np_array_A = np.array([[1, 2, 3], [4, 5, 6]])\n",
    "print(check_greater_than_ten(np_array))\n",
    "np_array_B = np.array([[11, 2, 3], [4, 5, 6]]) # Example with an element greater than 10\n",
    "print(check_greater_than_ten(np_array_B))"
   ]
  },
  {
   "cell_type": "markdown",
   "id": "46aef5a8",
   "metadata": {},
   "source": [
    "### Assignment 3.2: Replace elements < 0 with 0\n",
    "\n",
    "**Explanation**: Use boolean indexing: `arr[arr < 0] = 0`."
   ]
  },
  {
   "cell_type": "code",
   "execution_count": null,
   "id": "1678aa0e",
   "metadata": {},
   "outputs": [],
   "source": [
    "# TODO: Replace negative values in the array with zero\n",
    "def replace_negatives(arr: np.ndarray) -> np.ndarray:\n",
    "    pass"
   ]
  },
  {
   "cell_type": "markdown",
   "id": "64f7b622",
   "metadata": {},
   "source": [
    "**Correctness Verification:**"
   ]
  },
  {
   "cell_type": "code",
   "execution_count": null,
   "id": "6cc286d9",
   "metadata": {},
   "outputs": [],
   "source": [
    "np_array = np.array([[1, -2, 3], \n",
    "                     [-4, 5, -6]])\n",
    "print(\"Original array:\")\n",
    "print(np_array)\n",
    "print(\"Array after replacing negatives with zero:\")\n",
    "print(replace_negatives(np_array))"
   ]
  },
  {
   "cell_type": "markdown",
   "id": "73224a52",
   "metadata": {},
   "source": [
    "### Assignment 3.3: Count elements > 5\n",
    "\n",
    "**Explanation**: Use `np.sum(arr > 5)` to count the number of elements greater than 5."
   ]
  },
  {
   "cell_type": "code",
   "execution_count": null,
   "id": "d5c01bbf",
   "metadata": {},
   "outputs": [],
   "source": [
    "# TODO: Count how many elements in the array are greater than five\n",
    "def count_greater_than_five(arr: np.ndarray) -> int:\n",
    "    pass"
   ]
  },
  {
   "cell_type": "markdown",
   "id": "c1c68d3c",
   "metadata": {},
   "source": [
    "**Correctness Verification:**"
   ]
  },
  {
   "cell_type": "code",
   "execution_count": null,
   "id": "0425f358",
   "metadata": {},
   "outputs": [],
   "source": [
    "np_array = np.array([[4, 5, 6], \n",
    "                     [7, 8, 9]])\n",
    "print(\"Number of elements greater than five:\")\n",
    "print(count_greater_than_five(np_array))"
   ]
  },
  {
   "cell_type": "markdown",
   "id": "c79a8d93",
   "metadata": {},
   "source": [
    "### Assignment 3.4: Mark even numbers with 1, others with 0\n",
    "\n",
    "**Explanation**: Use `np.where(condition, value_if_true, value_if_false)` and modulo operation and boolean indexing: `arr % 2 == 0`."
   ]
  },
  {
   "cell_type": "code",
   "execution_count": null,
   "id": "0b22cbd5",
   "metadata": {},
   "outputs": [],
   "source": [
    "# TODO: Mark even numbers in the array with 1, and odd numbers with 0\n",
    "def mark_even(arr: np.ndarray) -> np.ndarray:\n",
    "    pass"
   ]
  },
  {
   "cell_type": "markdown",
   "id": "6287c97e",
   "metadata": {},
   "source": [
    "**Correctness Verification:**"
   ]
  },
  {
   "cell_type": "code",
   "execution_count": null,
   "id": "30f55442",
   "metadata": {},
   "outputs": [],
   "source": [
    "np_array = np.array([[1, 2, 3], \n",
    "                     [4, 5, 6]])\n",
    "print(\"Original array:\")\n",
    "print(np_array)\n",
    "print(\"Array with even numbers marked with 1 and odd numbers with 0:\")\n",
    "print(mark_even(np_array))"
   ]
  },
  {
   "cell_type": "markdown",
   "id": "eb22e9ec",
   "metadata": {},
   "source": [
    "### Assignment 3.5: Conditional sum of elements > 5\n",
    "\n",
    "**Explanation**: Use `np.sum(arr[arr > 5])` or `arr[arr > 5].sum()`."
   ]
  },
  {
   "cell_type": "code",
   "execution_count": null,
   "id": "45c6da0c",
   "metadata": {},
   "outputs": [],
   "source": [
    "# TODO: Sum all elements in the array that are greater than five\n",
    "def sum_if_greater_than_five(arr: np.ndarray) -> int:\n",
    "    pass"
   ]
  },
  {
   "cell_type": "markdown",
   "id": "6a8439ff",
   "metadata": {},
   "source": [
    "**Correctness Verification:**"
   ]
  },
  {
   "cell_type": "code",
   "execution_count": null,
   "id": "01a02469",
   "metadata": {},
   "outputs": [],
   "source": [
    "np_array = np.array([[3, 4, 5], \n",
    "                     [6, 7, 8]])\n",
    "print(\"Sum of elements greater than five:\")\n",
    "print(sum_if_greater_than_five(np_array))"
   ]
  },
  {
   "cell_type": "markdown",
   "id": "52afbb43",
   "metadata": {},
   "source": [
    "---\n",
    "\n",
    "## 4. Loop Example in 2D Array\n",
    "\n",
    "### Assignment 4.1: Sum each row manually using loops\n",
    "\n",
    "**Explanation**: Use nested loops: `for row in arr: total += sum(row)`."
   ]
  },
  {
   "cell_type": "code",
   "execution_count": null,
   "id": "8b4d43ac",
   "metadata": {},
   "outputs": [],
   "source": [
    "# TODO: Calculate the sum of each row in a 2D array using a for loop\n",
    "def row_sums(arr: np.ndarray) -> np.ndarray:\n",
    "    pass"
   ]
  },
  {
   "cell_type": "markdown",
   "id": "cecbbd6f",
   "metadata": {},
   "source": [
    "**Correctness Verification:**"
   ]
  },
  {
   "cell_type": "code",
   "execution_count": null,
   "id": "3c67b717",
   "metadata": {},
   "outputs": [],
   "source": [
    "np_array = np.array([[1, 2, 3], \n",
    "                     [4, 5, 6]])\n",
    "print(\"Sum of each row in the array:\")\n",
    "print(row_sums(np_array))"
   ]
  },
  {
   "cell_type": "markdown",
   "id": "2fce1e3b",
   "metadata": {},
   "source": [
    "### Assignment 4.2: Find max in each row of 2D array using loops\n",
    "\n",
    "**Explanation**: Use a loop and `max()` on each row, then use `append()` to collect results to a list and convert it to a NumPy array."
   ]
  },
  {
   "cell_type": "code",
   "execution_count": null,
   "id": "53935783",
   "metadata": {},
   "outputs": [],
   "source": [
    "# TODO: Find the maximum value in each row of a 2D array\n",
    "def row_max(arr: np.ndarray) -> np.ndarray:\n",
    "    pass"
   ]
  },
  {
   "cell_type": "markdown",
   "id": "1695e48f",
   "metadata": {},
   "source": [
    "**Correctness Verification:**"
   ]
  },
  {
   "cell_type": "code",
   "execution_count": null,
   "id": "ab1973ef",
   "metadata": {},
   "outputs": [],
   "source": [
    "np_array = np.array([[1, 2, 3], \n",
    "                     [4, 5, 6]])\n",
    "print(\"Maximum value in each row of the array:\")\n",
    "print(row_max(np_array))"
   ]
  },
  {
   "cell_type": "markdown",
   "id": "e194f7a8",
   "metadata": {},
   "source": [
    "### Assignment 4.3: Multiply each element by 2 using loops\n",
    "\n",
    "**Explanation**: Traverse the array with loops and multiply each element."
   ]
  },
  {
   "cell_type": "code",
   "execution_count": null,
   "id": "7eb3bb2c",
   "metadata": {},
   "outputs": [],
   "source": [
    "# TODO: Multiply each element in the array by two\n",
    "def multiply_by_two(arr: np.ndarray) -> np.ndarray:\n",
    "    pass"
   ]
  },
  {
   "cell_type": "markdown",
   "id": "2ac738b6",
   "metadata": {},
   "source": [
    "**Correctness Verification:**"
   ]
  },
  {
   "cell_type": "code",
   "execution_count": null,
   "id": "551d236d",
   "metadata": {},
   "outputs": [],
   "source": [
    "np_array = np.array([[1, 2, 3], [4, 5, 6]])\n",
    "print(\"Array after multiplying each element by two:\")\n",
    "print(multiply_by_two(np_array))"
   ]
  },
  {
   "cell_type": "markdown",
   "id": "d9b5e025",
   "metadata": {},
   "source": [
    "---\n",
    "\n",
    "## 5. Data Manipulation\n",
    "\n",
    "### Shape and Reshaping"
   ]
  },
  {
   "cell_type": "markdown",
   "id": "f928861f",
   "metadata": {},
   "source": [
    "#### Assignment 5.1.1: Reshape a 3x4 array into 2x6\n",
    "\n",
    "**Explanation**: Use `arr.reshape(new_shape)` where the new shape must have the same number of elements."
   ]
  },
  {
   "cell_type": "code",
   "execution_count": null,
   "id": "183b8802",
   "metadata": {},
   "outputs": [],
   "source": [
    "# TODO: Reshape a 3x4 array into a 2x6 array\n",
    "def reshape_array(arr: np.ndarray) -> np.ndarray: # assuming the input is a 3x4 array\n",
    "    pass"
   ]
  },
  {
   "cell_type": "markdown",
   "id": "6f97669a",
   "metadata": {},
   "source": [
    "**Correctness Verification:**"
   ]
  },
  {
   "cell_type": "code",
   "execution_count": null,
   "id": "5c49e935",
   "metadata": {},
   "outputs": [],
   "source": [
    "np_array_3_4 = np.array([[1, 2, 3, 4],\n",
    "                         [5, 6, 7, 8],\n",
    "                         [9, 10, 11, 12]])\n",
    "print(\"Original array:\")\n",
    "print(np_array_3_4)\n",
    "print(\"Reshaped array:\")\n",
    "print(reshape_array(np_array_3_4))"
   ]
  },
  {
   "cell_type": "markdown",
   "id": "4e3c0644",
   "metadata": {},
   "source": [
    "#### Assignment 5.1.2: Flatten the array into 1D\n",
    "\n",
    "**Explanation**: Use `arr.flatten()` or `arr.reshape(-1)`."
   ]
  },
  {
   "cell_type": "code",
   "execution_count": null,
   "id": "6ada4894",
   "metadata": {},
   "outputs": [],
   "source": [
    "# TODO: Flatten a 2D array into a 1D array\n",
    "def flatten(arr: np.ndarray) -> np.ndarray:\n",
    "    pass"
   ]
  },
  {
   "cell_type": "markdown",
   "id": "04a43988",
   "metadata": {},
   "source": [
    "**Correctness Verification:**"
   ]
  },
  {
   "cell_type": "code",
   "execution_count": null,
   "id": "3ff6dfc2",
   "metadata": {},
   "outputs": [],
   "source": [
    "np_array = np.array([[1, 2, 3], [4, 5, 6]])\n",
    "print(\"Original array:\")\n",
    "print(np_array)\n",
    "print(\"Flattened array:\")\n",
    "print(flatten(np_array))"
   ]
  },
  {
   "cell_type": "markdown",
   "id": "c14fcda2",
   "metadata": {},
   "source": [
    "### Array Iterating 2D Array\n",
    "\n",
    "#### Assignment 5.2.1: Print all elements using np.nditer\n",
    "\n",
    "**Explanation**: `np.nditer(arr)` allows iteration over all elements regardless of shape. Simply use `for element in np.nditer(arr):` to loop through each value. "
   ]
  },
  {
   "cell_type": "code",
   "execution_count": null,
   "id": "930b614f",
   "metadata": {},
   "outputs": [],
   "source": [
    "# TODO: Iterate through each element in the array and print it using np.nditer(arr)\n",
    "def iterate_elements(arr: np.ndarray) -> None:\n",
    "    pass"
   ]
  },
  {
   "cell_type": "markdown",
   "id": "29aab99a",
   "metadata": {},
   "source": [
    "**Correctness Verification:**"
   ]
  },
  {
   "cell_type": "code",
   "execution_count": null,
   "id": "96feee5b",
   "metadata": {},
   "outputs": [],
   "source": [
    "np_array = np.array([[1, 2, 3], [4, 5, 6]])\n",
    "iterate_elements(np_array)"
   ]
  },
  {
   "cell_type": "markdown",
   "id": "ca125005",
   "metadata": {},
   "source": [
    "#### Assignment 5.2.2: Return a list of elements > 5 using iteration\n",
    "\n",
    "**Explanation**: Use `np.nditer(arr)` iteration to collect elements with condition: `if val > 5: result.append(val.item())`."
   ]
  },
  {
   "cell_type": "code",
   "execution_count": null,
   "id": "1da0d537",
   "metadata": {},
   "outputs": [],
   "source": [
    "# TODO: Find elements greater than five in the array\n",
    "def elements_greater_than_five(arr: np.ndarray) -> list:\n",
    "    pass"
   ]
  },
  {
   "cell_type": "markdown",
   "id": "f493b068",
   "metadata": {},
   "source": [
    "**Correctness Verification:**"
   ]
  },
  {
   "cell_type": "code",
   "execution_count": null,
   "id": "a49de40b",
   "metadata": {},
   "outputs": [],
   "source": [
    "np_array = np.array([[3, 4, 5], \n",
    "                     [6, 7, 8]])\n",
    "print(\"Original array:\")\n",
    "print(np_array)\n",
    "print(\"List of elements greater than five:\")\n",
    "print(elements_greater_than_five(np_array))"
   ]
  },
  {
   "cell_type": "markdown",
   "id": "0c8183fc",
   "metadata": {},
   "source": [
    "#### Assignment 5.2.3: Return sum using iteration\n",
    "\n",
    "**Explanation**: Use `np.nditer(arr)` and add each element to a running total."
   ]
  },
  {
   "cell_type": "code",
   "execution_count": null,
   "id": "19e22979",
   "metadata": {},
   "outputs": [],
   "source": [
    "# TODO: Calculate the sum of all elements in the array using iteration with np.nditer(arr)\n",
    "def sum_using_iteration(arr: np.ndarray) -> int:\n",
    "    pass"
   ]
  },
  {
   "cell_type": "markdown",
   "id": "585fc8d1",
   "metadata": {},
   "source": [
    "**Correctness Verification:**"
   ]
  },
  {
   "cell_type": "code",
   "execution_count": null,
   "id": "35c1315a",
   "metadata": {},
   "outputs": [],
   "source": [
    "np_array = np.array([[1, 2, 3], \n",
    "                     [4, 5, 6]])\n",
    "print(\"Total sum of all elements in the array:\")\n",
    "print(sum_using_iteration(np_array))"
   ]
  },
  {
   "cell_type": "markdown",
   "id": "a2a25d15",
   "metadata": {},
   "source": [
    "### Splitting 2D Arrays\n",
    "\n",
    "#### Assignment 5.3.1: Split horizontally into two arrays\n",
    "\n",
    "**Explanation**: Use `np.hsplit(arr, 2, axis=0)` for horizontal splits."
   ]
  },
  {
   "cell_type": "code",
   "execution_count": null,
   "id": "b722f733",
   "metadata": {},
   "outputs": [],
   "source": [
    "# TODO: Split a 2D array horizontally into two equal parts\n",
    "def split_horizontal(arr: np.ndarray) -> list:\n",
    "    pass"
   ]
  },
  {
   "cell_type": "markdown",
   "id": "07ce23c8",
   "metadata": {},
   "source": [
    "**Correctness Verification:**"
   ]
  },
  {
   "cell_type": "code",
   "execution_count": null,
   "id": "ce0651db",
   "metadata": {},
   "outputs": [],
   "source": [
    "np_array = np.array([[1, 2, 3], \n",
    "                     [4, 5, 6]])\n",
    "print(\"Original array:\")\n",
    "print(np_array)\n",
    "print(\"Shape of the array:\")\n",
    "print(np_array.shape)\n",
    "print(\"Split array horizontally:\")\n",
    "splits = split_horizontal(np_array)\n",
    "for i, split in enumerate(splits):\n",
    "    print(f\"Split {i + 1}:\")\n",
    "    print(split)"
   ]
  },
  {
   "cell_type": "markdown",
   "id": "eb68ec10",
   "metadata": {},
   "source": [
    "#### Assignment 5.3.2: Split vertically into two arrays\n",
    "\n",
    "**Explanation**: Use `np.vsplit(arr, 2, axis=1)` for vertical splits."
   ]
  },
  {
   "cell_type": "code",
   "execution_count": null,
   "id": "bf3f69de",
   "metadata": {},
   "outputs": [],
   "source": [
    "# TODO: Split a 2D array vertically into two equal parts\n",
    "def split_vertical(arr: np.ndarray) -> list:\n",
    "    pass"
   ]
  },
  {
   "cell_type": "markdown",
   "id": "dd920842",
   "metadata": {},
   "source": [
    "**Correctness Verification:**"
   ]
  },
  {
   "cell_type": "code",
   "execution_count": null,
   "id": "e5d2db2a",
   "metadata": {},
   "outputs": [],
   "source": [
    "np_array = np.array([[1, 2, 3, 4], \n",
    "                     [5, 6, 7, 8],\n",
    "                     [9, 10, 11, 12]])\n",
    "print(\"Original array:\")\n",
    "print(np_array)\n",
    "print(\"Shape of the array:\")\n",
    "print(np_array.shape)\n",
    "splits = split_vertical(np_array)\n",
    "for i, split in enumerate(splits):\n",
    "    print(f\"Split {i + 1}:\")\n",
    "    print(split)"
   ]
  },
  {
   "cell_type": "markdown",
   "id": "983eb323",
   "metadata": {},
   "source": [
    "#### Assignment 5.3.3: Split into four quadrants\n",
    "\n",
    "**Explanation**: First split by rows, then split each half by columns."
   ]
  },
  {
   "cell_type": "code",
   "execution_count": null,
   "id": "10adfad3",
   "metadata": {},
   "outputs": [],
   "source": [
    "# TODO: Split a 2D array into four quadrants\n",
    "def split_quadrants(arr: np.ndarray) -> list:\n",
    "    pass"
   ]
  },
  {
   "cell_type": "markdown",
   "id": "7fe5078a",
   "metadata": {},
   "source": [
    "**Correctness Verification:**"
   ]
  },
  {
   "cell_type": "code",
   "execution_count": null,
   "id": "53e0bbe2",
   "metadata": {},
   "outputs": [],
   "source": [
    "np_array = np.array([[1, 2, 3, 4], \n",
    "                     [5, 6, 7, 8],\n",
    "                     [9, 10, 11, 12],\n",
    "                     [13, 14, 15, 16]])\n",
    "print(\"Original array:\")\n",
    "print(np_array)\n",
    "print(\"Shape of the array:\")\n",
    "print(np_array.shape)\n",
    "splits = split_quadrants(np_array)\n",
    "for i, split in enumerate(splits):\n",
    "    print(f\"Quadrant {i + 1}:\")\n",
    "    print(split)"
   ]
  },
  {
   "cell_type": "markdown",
   "id": "dc9b9a2f",
   "metadata": {},
   "source": [
    "### Array Slicing\n",
    "\n",
    "#### Assignment 5.4.1: Get middle row of the array\n",
    "\n",
    "**Explanation**: Use indexing like `arr[middle_index]` where index is `arr.shape[0]//2`."
   ]
  },
  {
   "cell_type": "code",
   "execution_count": null,
   "id": "bfa189c8",
   "metadata": {},
   "outputs": [],
   "source": [
    "# TODO: Return the middle row of a 2D array\n",
    "def middle_row(arr: np.ndarray) -> np.ndarray:\n",
    "    pass"
   ]
  },
  {
   "cell_type": "markdown",
   "id": "a6bcc146",
   "metadata": {},
   "source": [
    "**Correctness Verification:**"
   ]
  },
  {
   "cell_type": "code",
   "execution_count": null,
   "id": "7c8cb730",
   "metadata": {},
   "outputs": [],
   "source": [
    "np_array = np.array([[1, 2],\n",
    "                     [3, 4],\n",
    "                     [5, 6]])\n",
    "print(\"Original array:\")\n",
    "print(np_array)\n",
    "print(\"Middle row of the array:\")\n",
    "print(middle_row(np_array))"
   ]
  },
  {
   "cell_type": "markdown",
   "id": "7b335e68",
   "metadata": {},
   "source": [
    "#### Assignment 5.4.2: Get all corner elements (assuming square)\n",
    "\n",
    "**Explanation**: Access `[0,0]`, `[0,-1]`, `[-1,0]`, and `[-1,-1]` from a 2D array."
   ]
  },
  {
   "cell_type": "code",
   "execution_count": null,
   "id": "235fa7b7",
   "metadata": {},
   "outputs": [],
   "source": [
    "# TODO: Return the corner elements of a 2D array\n",
    "def corner_elements(arr: np.ndarray) -> list: # assuming arr is a 2D numpy square array\n",
    "    pass"
   ]
  },
  {
   "cell_type": "markdown",
   "id": "80bbc717",
   "metadata": {},
   "source": [
    "**Correctness Verification:**"
   ]
  },
  {
   "cell_type": "code",
   "execution_count": null,
   "id": "577467a3",
   "metadata": {},
   "outputs": [],
   "source": [
    "np_array = np.array([[1, 2, 3], [4, 5, 6]])\n",
    "print(\"Original array:\")\n",
    "print(np_array)\n",
    "print(\"Corner elements of the array:\")\n",
    "print(corner_elements(np_array))"
   ]
  },
  {
   "cell_type": "markdown",
   "id": "21d11ddd",
   "metadata": {},
   "source": [
    "#### Assignment 5.4.3: Return sub-array from index [start_row:end_row, start_col:end_col]\n",
    "\n",
    "**Explanation**: Use slicing like `arr[1:3, 1:3]` to extract a sub-array."
   ]
  },
  {
   "cell_type": "code",
   "execution_count": null,
   "id": "448cdb1a",
   "metadata": {},
   "outputs": [],
   "source": [
    "# TODO: Return a sub-array from the original array\n",
    "def sub_array(arr: np.ndarray, start_row: int, end_row: int, start_col: int, end_col: int) -> np.ndarray:\n",
    "    pass"
   ]
  },
  {
   "cell_type": "markdown",
   "id": "d7025cbd",
   "metadata": {},
   "source": [
    "**Correctness Verification:**"
   ]
  },
  {
   "cell_type": "code",
   "execution_count": null,
   "id": "4930627f",
   "metadata": {},
   "outputs": [],
   "source": [
    "np_array = np.array([[1, 2, 3, 4], \n",
    "                     [5, 6, 7, 8],\n",
    "                     [9, 10, 11, 12],\n",
    "                     [13, 14, 15, 16]])\n",
    "print(\"Original array:\")\n",
    "print(np_array)\n",
    "print(\"Sub-array from index [1:3, 1:3]:\")\n",
    "print(sub_array(np_array, 1, 3, 1, 3))"
   ]
  },
  {
   "cell_type": "markdown",
   "id": "0e8eafc7",
   "metadata": {},
   "source": []
  }
 ],
 "metadata": {
  "kernelspec": {
   "display_name": "Python 3 (ipykernel)",
   "language": "python",
   "name": "python3"
  },
  "language_info": {
   "codemirror_mode": {
    "name": "ipython",
    "version": 3
   },
   "file_extension": ".py",
   "mimetype": "text/x-python",
   "name": "python",
   "nbconvert_exporter": "python",
   "pygments_lexer": "ipython3",
   "version": "3.13.3"
  }
 },
 "nbformat": 4,
 "nbformat_minor": 5
}
